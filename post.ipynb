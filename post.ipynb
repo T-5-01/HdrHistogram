{
 "cells": [
  {
   "cell_type": "markdown",
   "metadata": {},
   "source": [
    "# install coffeescript"
   ]
  },
  {
   "cell_type": "code",
   "execution_count": null,
   "metadata": {},
   "outputs": [],
   "source": [
    "$ npm i -g coffeescript\n",
    "$ npm i --save-dev coffeescript"
   ]
  },
  {
   "cell_type": "markdown",
   "metadata": {},
   "source": [
    "Trình biên dịch CoffeeScript bằng câu lệnh coffee -c, để trình biên dịch có thể dịch được 1 tệp tin, bạn phải chuyển nó về định dạng tệp tin .coffeescript."
   ]
  },
  {
   "cell_type": "markdown",
   "metadata": {},
   "source": [
    "ví dụ tạo file demo.coffee"
   ]
  },
  {
   "cell_type": "code",
   "execution_count": null,
   "metadata": {},
   "outputs": [],
   "source": [
    "for i in [0..10]\n",
    "  console.log \"Hello, Coffee #{i}\""
   ]
  },
  {
   "cell_type": "markdown",
   "metadata": {},
   "source": [
    "Khi bạn chạy câu lệnh trên Terminal: $ coffee demo.coffee, kế quả trả về cho chúng ta là."
   ]
  },
  {
   "cell_type": "raw",
   "metadata": {},
   "source": [
    "Hello, Coffee 0\n",
    "Hello, Coffee 1\n",
    "Hello, Coffee 2\n",
    "Hello, Coffee 3\n",
    "Hello, Coffee 4\n",
    "Hello, Coffee 5\n",
    "Hello, Coffee 6\n",
    "Hello, Coffee 7\n",
    "Hello, Coffee 8\n",
    "Hello, Coffee 9\n",
    "Hello, Coffee 10"
   ]
  }
 ],
 "metadata": {
  "language_info": {
   "name": "plaintext"
  },
  "orig_nbformat": 4
 },
 "nbformat": 4,
 "nbformat_minor": 2
}
